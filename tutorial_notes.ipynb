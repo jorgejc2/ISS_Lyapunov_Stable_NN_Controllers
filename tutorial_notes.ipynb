{
 "cells": [
  {
   "metadata": {},
   "cell_type": "markdown",
   "source": [
    "# Setup \n",
    "\n",
    "The general instructions on set up are in the README, but a more detailed explanation is given in this section. \n",
    "\n",
    "I would personally recommend using PyCharm as an IDE for personal development. The professional version is free for students as well. \n",
    "\n",
    "Installing Anaconda is also necessary for this project. [Miniconda](https://docs.anaconda.com/free/miniconda/miniconda-install/) is the lightest version you can install. It is a purely terminal based version of Anaconda. You may also download the [full featured version](https://www.anaconda.com/download) which comes with a graphical user interface. \n",
    "\n",
    "Conda in summary is a Python virtual environment tool which I highly recommend for projects that have a lot of library dependencies or when you have multiple projects with different versions of the same library. \n",
    "\n",
    "After installing, move to the root directory of this project and run\n",
    "\n",
    "```shell\n",
    "conda create --name lnc\n",
    "```\n",
    "\n",
    "This command is how you create new Conda virtual environments. The name could be anything you want, I simply chose lnc as short for Lyapunov neural control. \n",
    "\n",
    "If you want to see a list of all of your Conda environments, you can run\n",
    "\n",
    "```shell\n",
    "conda env list\n",
    "```\n",
    "\n",
    "The activate command is how you choose an environment to use for your project. \n",
    "\n",
    "```shell\n",
    "conda activate lnc\n",
    "```\n",
    "\n",
    "Finally, this pip install command downloads all of the library packages needed into your conda environment.\n",
    "\n",
    "```shell\n",
    "pip install -e .\n",
    "```\n",
    "\n",
    "### here will be the instructions for setting up the verifier\n",
    "\n",
    "# Running\n",
    "\n",
    "The first time you start a new terminal session, you must activate your Conda environment and export the Python environment variables. \n",
    "\n",
    "```shell\n",
    "exprort PYTHONPATH=/home/jorgejc2/Documents/ClassRepos/ISS_Neural_Lyapunov_Framework:/home/jorgejc2/Documents/Research/Verifier_Development\n",
    "```\n",
    "\n",
    "Fix the directory path appropiately as the above environment variable is for my own local path. \n",
    "\n",
    "This repository is now split up into a training, generation, and verification section. \n",
    "\n",
    "## Training\n",
    "\n",
    "These scripts are what take your models and trains a neural network controller and neural network Lyapunov function simultaneously. Examples of what a training file looks like can be found in *examples/*. I will now reference the inverted pendulum case to help explain the process. The inverted pendulum is defined as the following dynamics:\n",
    "\n",
    "$$\n",
    "\\begin{pmatrix} \\theta \\\\ \\dot{\\theta} \\end{pmatrix} = f(x,u)\n",
    "$$\n",
    "\n",
    "## Generation\n",
    "\n",
    "## Verification\n"
   ],
   "id": "7fb3a8bbd4187014"
  },
  {
   "cell_type": "code",
   "execution_count": null,
   "id": "initial_id",
   "metadata": {
    "collapsed": true
   },
   "outputs": [],
   "source": ""
  }
 ],
 "metadata": {
  "kernelspec": {
   "display_name": "Python 3",
   "language": "python",
   "name": "python3"
  },
  "language_info": {
   "codemirror_mode": {
    "name": "ipython",
    "version": 2
   },
   "file_extension": ".py",
   "mimetype": "text/x-python",
   "name": "python",
   "nbconvert_exporter": "python",
   "pygments_lexer": "ipython2",
   "version": "2.7.6"
  }
 },
 "nbformat": 4,
 "nbformat_minor": 5
}
